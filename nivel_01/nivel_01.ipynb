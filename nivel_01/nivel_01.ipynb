{
 "cells": [
  {
   "cell_type": "code",
   "execution_count": 1,
   "metadata": {},
   "outputs": [],
   "source": [
    "# %load_ext lab_black"
   ]
  },
  {
   "cell_type": "code",
   "execution_count": 2,
   "metadata": {},
   "outputs": [],
   "source": [
    "from pathlib import Path\n",
    "\n",
    "# Essa variável vai apontar para onde os dados moram\n",
    "# no caso - uma pasta pra cima da pasta atual, e\n",
    "# então na pasta \"sample_data\"\n",
    "# ref: https://docs.python.org/pt-br/3/library/pathlib.html\n",
    "\n",
    "pasta_dados = Path().absolute().parent / \"sample_data\""
   ]
  },
  {
   "cell_type": "markdown",
   "metadata": {},
   "source": [
    "Alerta: Esse notebook contém código escrito em Português. Se você se surpreende com isso ou quer saber porquê esse aviso está aqui, [leia](https://notasdobidu.com/eca-o-bidu-ta-programando-em-portugues/)"
   ]
  },
  {
   "cell_type": "markdown",
   "metadata": {},
   "source": [
    "# Lab de ETL - Nível 01\n",
    "\n",
    "Nessa primeira etapa vamos carregar arquivos CSV e fazer alguma limpezas, em memória mesmo"
   ]
  },
  {
   "cell_type": "markdown",
   "metadata": {},
   "source": [
    "## 01 - Listando e carregando os dados de exemplo"
   ]
  },
  {
   "cell_type": "markdown",
   "metadata": {},
   "source": [
    "Quantos arquivos temos na pasta?"
   ]
  },
  {
   "cell_type": "code",
   "execution_count": 3,
   "metadata": {},
   "outputs": [
    {
     "name": "stdout",
     "output_type": "stream",
     "text": [
      "2021-02-01.csv\n",
      "2021-02-09.csv\n",
      "2021-02-12.csv\n",
      "2021-02-13.csv\n",
      "2021-02-15.csv\n",
      "2021-02-19.csv\n",
      "2021-02-22.csv\n",
      "2021-02-28.csv\n"
     ]
    }
   ],
   "source": [
    "for filename in pasta_dados.iterdir():\n",
    "    print(filename.name)"
   ]
  },
  {
   "cell_type": "markdown",
   "metadata": {},
   "source": [
    "Carregando um desses arquivos:"
   ]
  },
  {
   "cell_type": "code",
   "execution_count": 4,
   "metadata": {},
   "outputs": [],
   "source": [
    "import pandas as pd"
   ]
  },
  {
   "cell_type": "code",
   "execution_count": 5,
   "metadata": {},
   "outputs": [],
   "source": [
    "dados = pd.read_csv(pasta_dados / \"2021-02-01.csv\")"
   ]
  },
  {
   "cell_type": "code",
   "execution_count": 6,
   "metadata": {},
   "outputs": [
    {
     "data": {
      "text/html": [
       "<div>\n",
       "<style scoped>\n",
       "    .dataframe tbody tr th:only-of-type {\n",
       "        vertical-align: middle;\n",
       "    }\n",
       "\n",
       "    .dataframe tbody tr th {\n",
       "        vertical-align: top;\n",
       "    }\n",
       "\n",
       "    .dataframe thead th {\n",
       "        text-align: right;\n",
       "    }\n",
       "</style>\n",
       "<table border=\"1\" class=\"dataframe\">\n",
       "  <thead>\n",
       "    <tr style=\"text-align: right;\">\n",
       "      <th></th>\n",
       "      <th>Núm.</th>\n",
       "      <th>Descrição</th>\n",
       "      <th>Qtd. Comercial</th>\n",
       "      <th>Unid. Comercial</th>\n",
       "      <th>Valor Líquido do Item</th>\n",
       "      <th>Informações Adicionais do Produto</th>\n",
       "      <th>Cód. Produto</th>\n",
       "      <th>Cód. GTIN</th>\n",
       "      <th>Cód. NCM</th>\n",
       "      <th>Código Especificador da Substituição Tributária</th>\n",
       "      <th>...</th>\n",
       "      <th>Valor de Deduções para ISSQN</th>\n",
       "      <th>Valor da Base de Cálculo do ISSQN</th>\n",
       "      <th>Alíquota do ISSQN</th>\n",
       "      <th>Valor do ISSQN</th>\n",
       "      <th>Item da Lista de Serviços</th>\n",
       "      <th>Código do Município do Fato Gerador do ISSQN</th>\n",
       "      <th>Código de Tributação pelo ISSQN do Município</th>\n",
       "      <th>Natureza da Operação de ISSQN</th>\n",
       "      <th>Incentivo Fiscal do ISSQN</th>\n",
       "      <th>Valor Aproximado dos Tributos do Produto ou Serviço – Lei 12741/12</th>\n",
       "    </tr>\n",
       "  </thead>\n",
       "  <tbody>\n",
       "    <tr>\n",
       "      <th>0</th>\n",
       "      <td>1</td>\n",
       "      <td>CHA LIPTON 1,5L PESSEGO</td>\n",
       "      <td>1,0000</td>\n",
       "      <td>UN</td>\n",
       "      <td>7,15</td>\n",
       "      <td>Não Informado</td>\n",
       "      <td>7891042000195</td>\n",
       "      <td>7891042000195</td>\n",
       "      <td>22021000</td>\n",
       "      <td>1711100</td>\n",
       "      <td>...</td>\n",
       "      <td>Não Informado</td>\n",
       "      <td>Não Informado</td>\n",
       "      <td>Não Informado</td>\n",
       "      <td>Não Informado</td>\n",
       "      <td>Não Informado</td>\n",
       "      <td>Não Informado</td>\n",
       "      <td>Não Informado</td>\n",
       "      <td>Não Informado</td>\n",
       "      <td>2 - Não</td>\n",
       "      <td>2,34</td>\n",
       "    </tr>\n",
       "    <tr>\n",
       "      <th>1</th>\n",
       "      <td>2</td>\n",
       "      <td>SUCO AURORA 1,5L UVA TTO</td>\n",
       "      <td>1,0000</td>\n",
       "      <td>UN</td>\n",
       "      <td>17,29</td>\n",
       "      <td>Não Informado</td>\n",
       "      <td>7891141019838</td>\n",
       "      <td>7891141019838</td>\n",
       "      <td>20096100</td>\n",
       "      <td>1701000</td>\n",
       "      <td>...</td>\n",
       "      <td>Não Informado</td>\n",
       "      <td>Não Informado</td>\n",
       "      <td>Não Informado</td>\n",
       "      <td>Não Informado</td>\n",
       "      <td>Não Informado</td>\n",
       "      <td>Não Informado</td>\n",
       "      <td>Não Informado</td>\n",
       "      <td>Não Informado</td>\n",
       "      <td>2 - Não</td>\n",
       "      <td>3,83</td>\n",
       "    </tr>\n",
       "    <tr>\n",
       "      <th>2</th>\n",
       "      <td>3</td>\n",
       "      <td>CREME LEITE ITAMBE 300g</td>\n",
       "      <td>1,0000</td>\n",
       "      <td>UN</td>\n",
       "      <td>4,99</td>\n",
       "      <td>Não Informado</td>\n",
       "      <td>7896051114086</td>\n",
       "      <td>7896051114086</td>\n",
       "      <td>4015029</td>\n",
       "      <td>1701902</td>\n",
       "      <td>...</td>\n",
       "      <td>Não Informado</td>\n",
       "      <td>Não Informado</td>\n",
       "      <td>Não Informado</td>\n",
       "      <td>Não Informado</td>\n",
       "      <td>Não Informado</td>\n",
       "      <td>Não Informado</td>\n",
       "      <td>Não Informado</td>\n",
       "      <td>Não Informado</td>\n",
       "      <td>2 - Não</td>\n",
       "      <td>0,54</td>\n",
       "    </tr>\n",
       "    <tr>\n",
       "      <th>3</th>\n",
       "      <td>4</td>\n",
       "      <td>LEITE SHEFA 1L GF.INTEGR</td>\n",
       "      <td>1,0000</td>\n",
       "      <td>UN</td>\n",
       "      <td>3,99</td>\n",
       "      <td>Não Informado</td>\n",
       "      <td>7896185312396</td>\n",
       "      <td>7896185312396</td>\n",
       "      <td>4012010</td>\n",
       "      <td>1701601</td>\n",
       "      <td>...</td>\n",
       "      <td>Não Informado</td>\n",
       "      <td>Não Informado</td>\n",
       "      <td>Não Informado</td>\n",
       "      <td>Não Informado</td>\n",
       "      <td>Não Informado</td>\n",
       "      <td>Não Informado</td>\n",
       "      <td>Não Informado</td>\n",
       "      <td>Não Informado</td>\n",
       "      <td>2 - Não</td>\n",
       "      <td>0,16</td>\n",
       "    </tr>\n",
       "    <tr>\n",
       "      <th>4</th>\n",
       "      <td>5</td>\n",
       "      <td>PALMITO LUPE 300g P.TOLE</td>\n",
       "      <td>1,0000</td>\n",
       "      <td>UN</td>\n",
       "      <td>11,89</td>\n",
       "      <td>Não Informado</td>\n",
       "      <td>7898944191778</td>\n",
       "      <td>7898944191778</td>\n",
       "      <td>20089100</td>\n",
       "      <td>1709500</td>\n",
       "      <td>...</td>\n",
       "      <td>Não Informado</td>\n",
       "      <td>Não Informado</td>\n",
       "      <td>Não Informado</td>\n",
       "      <td>Não Informado</td>\n",
       "      <td>Não Informado</td>\n",
       "      <td>Não Informado</td>\n",
       "      <td>Não Informado</td>\n",
       "      <td>Não Informado</td>\n",
       "      <td>2 - Não</td>\n",
       "      <td>2,63</td>\n",
       "    </tr>\n",
       "  </tbody>\n",
       "</table>\n",
       "<p>5 rows × 56 columns</p>\n",
       "</div>"
      ],
      "text/plain": [
       "   Núm.                 Descrição Qtd. Comercial Unid. Comercial  \\\n",
       "0     1   CHA LIPTON 1,5L PESSEGO         1,0000              UN   \n",
       "1     2  SUCO AURORA 1,5L UVA TTO         1,0000              UN   \n",
       "2     3   CREME LEITE ITAMBE 300g         1,0000              UN   \n",
       "3     4  LEITE SHEFA 1L GF.INTEGR         1,0000              UN   \n",
       "4     5  PALMITO LUPE 300g P.TOLE         1,0000              UN   \n",
       "\n",
       "  Valor Líquido do Item Informações Adicionais do Produto   Cód. Produto  \\\n",
       "0                  7,15                     Não Informado  7891042000195   \n",
       "1                 17,29                     Não Informado  7891141019838   \n",
       "2                  4,99                     Não Informado  7896051114086   \n",
       "3                  3,99                     Não Informado  7896185312396   \n",
       "4                 11,89                     Não Informado  7898944191778   \n",
       "\n",
       "       Cód. GTIN  Cód. NCM Código Especificador da Substituição Tributária  \\\n",
       "0  7891042000195  22021000                                         1711100   \n",
       "1  7891141019838  20096100                                         1701000   \n",
       "2  7896051114086   4015029                                         1701902   \n",
       "3  7896185312396   4012010                                         1701601   \n",
       "4  7898944191778  20089100                                         1709500   \n",
       "\n",
       "   ...  Valor de Deduções para ISSQN Valor da Base de Cálculo do ISSQN  \\\n",
       "0  ...                 Não Informado                     Não Informado   \n",
       "1  ...                 Não Informado                     Não Informado   \n",
       "2  ...                 Não Informado                     Não Informado   \n",
       "3  ...                 Não Informado                     Não Informado   \n",
       "4  ...                 Não Informado                     Não Informado   \n",
       "\n",
       "  Alíquota do ISSQN Valor do ISSQN Item da Lista de Serviços  \\\n",
       "0     Não Informado  Não Informado             Não Informado   \n",
       "1     Não Informado  Não Informado             Não Informado   \n",
       "2     Não Informado  Não Informado             Não Informado   \n",
       "3     Não Informado  Não Informado             Não Informado   \n",
       "4     Não Informado  Não Informado             Não Informado   \n",
       "\n",
       "  Código do Município do Fato Gerador do ISSQN  \\\n",
       "0                                Não Informado   \n",
       "1                                Não Informado   \n",
       "2                                Não Informado   \n",
       "3                                Não Informado   \n",
       "4                                Não Informado   \n",
       "\n",
       "  Código de Tributação pelo ISSQN do Município Natureza da Operação de ISSQN  \\\n",
       "0                                Não Informado                 Não Informado   \n",
       "1                                Não Informado                 Não Informado   \n",
       "2                                Não Informado                 Não Informado   \n",
       "3                                Não Informado                 Não Informado   \n",
       "4                                Não Informado                 Não Informado   \n",
       "\n",
       "  Incentivo Fiscal do ISSQN  \\\n",
       "0                   2 - Não   \n",
       "1                   2 - Não   \n",
       "2                   2 - Não   \n",
       "3                   2 - Não   \n",
       "4                   2 - Não   \n",
       "\n",
       "  Valor Aproximado dos Tributos do Produto ou Serviço – Lei 12741/12  \n",
       "0                                               2,34                  \n",
       "1                                               3,83                  \n",
       "2                                               0,54                  \n",
       "3                                               0,16                  \n",
       "4                                               2,63                  \n",
       "\n",
       "[5 rows x 56 columns]"
      ]
     },
     "execution_count": 6,
     "metadata": {},
     "output_type": "execute_result"
    }
   ],
   "source": [
    "dados.head()"
   ]
  },
  {
   "cell_type": "markdown",
   "metadata": {},
   "source": [
    "Como podemos ver, temos muitas colunas e os dados precisam de uma limpeza. Vamos fazer o fluxo de \"ETL\" completo com um arquivo só e então expandir para todos os arquivos na pasta."
   ]
  },
  {
   "cell_type": "markdown",
   "metadata": {},
   "source": [
    "Nós já temos a primeira etapa - carregar os dados é o início, é o \"E\" de ETL. Portanto para o nosso caso, essa etapa consiste simplesmente de chamar o pandas para carregar o CSV"
   ]
  },
  {
   "cell_type": "markdown",
   "metadata": {},
   "source": [
    "## Tratamentos\n",
    "\n",
    "Agora vamos para segunda etapa, o T - \"tract\". Essa etapa consiste em tratamentos que queremos fazer nos dados.\n",
    "\n",
    "Primeiro, vamos deixar só as colunas que queremos"
   ]
  },
  {
   "cell_type": "code",
   "execution_count": 7,
   "metadata": {},
   "outputs": [],
   "source": [
    "colunas = [\n",
    "    \"Descrição\",\n",
    "    \"Qtd. Comercial\",\n",
    "    \"Unid. Comercial\",\n",
    "    \"Valor Líquido do Item\",\n",
    "    \"Cód. Produto\",\n",
    "]"
   ]
  },
  {
   "cell_type": "code",
   "execution_count": 8,
   "metadata": {},
   "outputs": [],
   "source": [
    "dados = dados[colunas]"
   ]
  },
  {
   "cell_type": "code",
   "execution_count": 9,
   "metadata": {},
   "outputs": [
    {
     "data": {
      "text/html": [
       "<div>\n",
       "<style scoped>\n",
       "    .dataframe tbody tr th:only-of-type {\n",
       "        vertical-align: middle;\n",
       "    }\n",
       "\n",
       "    .dataframe tbody tr th {\n",
       "        vertical-align: top;\n",
       "    }\n",
       "\n",
       "    .dataframe thead th {\n",
       "        text-align: right;\n",
       "    }\n",
       "</style>\n",
       "<table border=\"1\" class=\"dataframe\">\n",
       "  <thead>\n",
       "    <tr style=\"text-align: right;\">\n",
       "      <th></th>\n",
       "      <th>Descrição</th>\n",
       "      <th>Qtd. Comercial</th>\n",
       "      <th>Unid. Comercial</th>\n",
       "      <th>Valor Líquido do Item</th>\n",
       "      <th>Cód. Produto</th>\n",
       "    </tr>\n",
       "  </thead>\n",
       "  <tbody>\n",
       "    <tr>\n",
       "      <th>0</th>\n",
       "      <td>CHA LIPTON 1,5L PESSEGO</td>\n",
       "      <td>1,0000</td>\n",
       "      <td>UN</td>\n",
       "      <td>7,15</td>\n",
       "      <td>7891042000195</td>\n",
       "    </tr>\n",
       "    <tr>\n",
       "      <th>1</th>\n",
       "      <td>SUCO AURORA 1,5L UVA TTO</td>\n",
       "      <td>1,0000</td>\n",
       "      <td>UN</td>\n",
       "      <td>17,29</td>\n",
       "      <td>7891141019838</td>\n",
       "    </tr>\n",
       "    <tr>\n",
       "      <th>2</th>\n",
       "      <td>CREME LEITE ITAMBE 300g</td>\n",
       "      <td>1,0000</td>\n",
       "      <td>UN</td>\n",
       "      <td>4,99</td>\n",
       "      <td>7896051114086</td>\n",
       "    </tr>\n",
       "    <tr>\n",
       "      <th>3</th>\n",
       "      <td>LEITE SHEFA 1L GF.INTEGR</td>\n",
       "      <td>1,0000</td>\n",
       "      <td>UN</td>\n",
       "      <td>3,99</td>\n",
       "      <td>7896185312396</td>\n",
       "    </tr>\n",
       "    <tr>\n",
       "      <th>4</th>\n",
       "      <td>PALMITO LUPE 300g P.TOLE</td>\n",
       "      <td>1,0000</td>\n",
       "      <td>UN</td>\n",
       "      <td>11,89</td>\n",
       "      <td>7898944191778</td>\n",
       "    </tr>\n",
       "  </tbody>\n",
       "</table>\n",
       "</div>"
      ],
      "text/plain": [
       "                  Descrição Qtd. Comercial Unid. Comercial  \\\n",
       "0   CHA LIPTON 1,5L PESSEGO         1,0000              UN   \n",
       "1  SUCO AURORA 1,5L UVA TTO         1,0000              UN   \n",
       "2   CREME LEITE ITAMBE 300g         1,0000              UN   \n",
       "3  LEITE SHEFA 1L GF.INTEGR         1,0000              UN   \n",
       "4  PALMITO LUPE 300g P.TOLE         1,0000              UN   \n",
       "\n",
       "  Valor Líquido do Item   Cód. Produto  \n",
       "0                  7,15  7891042000195  \n",
       "1                 17,29  7891141019838  \n",
       "2                  4,99  7896051114086  \n",
       "3                  3,99  7896185312396  \n",
       "4                 11,89  7898944191778  "
      ]
     },
     "execution_count": 9,
     "metadata": {},
     "output_type": "execute_result"
    }
   ],
   "source": [
    "dados.head()"
   ]
  },
  {
   "cell_type": "markdown",
   "metadata": {},
   "source": [
    "Nosso primeiro tratamento está feito. Agora podemos fazer uma etapa adicional, conferir os tipos:"
   ]
  },
  {
   "cell_type": "code",
   "execution_count": 10,
   "metadata": {},
   "outputs": [
    {
     "data": {
      "text/plain": [
       "Descrição                object\n",
       "Qtd. Comercial           object\n",
       "Unid. Comercial          object\n",
       "Valor Líquido do Item    object\n",
       "Cód. Produto              int64\n",
       "dtype: object"
      ]
     },
     "execution_count": 10,
     "metadata": {},
     "output_type": "execute_result"
    }
   ],
   "source": [
    "dados.dtypes"
   ]
  },
  {
   "cell_type": "markdown",
   "metadata": {},
   "source": [
    "E converter as colunas para os tipos corretos:"
   ]
  },
  {
   "cell_type": "code",
   "execution_count": 11,
   "metadata": {},
   "outputs": [
    {
     "ename": "ValueError",
     "evalue": "Unable to parse string \"1,0000\" at position 0",
     "output_type": "error",
     "traceback": [
      "\u001b[0;31m---------------------------------------------------------------------------\u001b[0m",
      "\u001b[0;31mValueError\u001b[0m                                Traceback (most recent call last)",
      "File \u001b[0;32m~/.pyenv/versions/3.8.12/lib/python3.8/site-packages/pandas/_libs/lib.pyx:2315\u001b[0m, in \u001b[0;36mpandas._libs.lib.maybe_convert_numeric\u001b[0;34m()\u001b[0m\n",
      "\u001b[0;31mValueError\u001b[0m: Unable to parse string \"1,0000\"",
      "\nDuring handling of the above exception, another exception occurred:\n",
      "\u001b[0;31mValueError\u001b[0m                                Traceback (most recent call last)",
      "\u001b[1;32m/data/insync/Aulas/Tera/2022/2022-02-ETL-XP/lab-etl/nivel_01/nivel_01.ipynb Cell 21'\u001b[0m in \u001b[0;36m<module>\u001b[0;34m\u001b[0m\n\u001b[0;32m----> <a href='vscode-notebook-cell:/data/insync/Aulas/Tera/2022/2022-02-ETL-XP/lab-etl/nivel_01/nivel_01.ipynb#ch0000020?line=0'>1</a>\u001b[0m dados[\u001b[39m\"\u001b[39m\u001b[39mQtd. Comercial\u001b[39m\u001b[39m\"\u001b[39m] \u001b[39m=\u001b[39m pd\u001b[39m.\u001b[39;49mto_numeric(dados[\u001b[39m\"\u001b[39;49m\u001b[39mQtd. Comercial\u001b[39;49m\u001b[39m\"\u001b[39;49m])\n\u001b[1;32m      <a href='vscode-notebook-cell:/data/insync/Aulas/Tera/2022/2022-02-ETL-XP/lab-etl/nivel_01/nivel_01.ipynb#ch0000020?line=1'>2</a>\u001b[0m dados[\u001b[39m\"\u001b[39m\u001b[39mValor Líquido do Item\u001b[39m\u001b[39m\"\u001b[39m] \u001b[39m=\u001b[39m pd\u001b[39m.\u001b[39mto_numeric(dados[\u001b[39m\"\u001b[39m\u001b[39mValor Líquido do Item\u001b[39m\u001b[39m\"\u001b[39m])\n",
      "File \u001b[0;32m~/.pyenv/versions/3.8.12/lib/python3.8/site-packages/pandas/core/tools/numeric.py:184\u001b[0m, in \u001b[0;36mto_numeric\u001b[0;34m(arg, errors, downcast)\u001b[0m\n\u001b[1;32m    <a href='file:///~/.pyenv/versions/3.8.12/lib/python3.8/site-packages/pandas/core/tools/numeric.py?line=181'>182</a>\u001b[0m coerce_numeric \u001b[39m=\u001b[39m errors \u001b[39mnot\u001b[39;00m \u001b[39min\u001b[39;00m (\u001b[39m\"\u001b[39m\u001b[39mignore\u001b[39m\u001b[39m\"\u001b[39m, \u001b[39m\"\u001b[39m\u001b[39mraise\u001b[39m\u001b[39m\"\u001b[39m)\n\u001b[1;32m    <a href='file:///~/.pyenv/versions/3.8.12/lib/python3.8/site-packages/pandas/core/tools/numeric.py?line=182'>183</a>\u001b[0m \u001b[39mtry\u001b[39;00m:\n\u001b[0;32m--> <a href='file:///~/.pyenv/versions/3.8.12/lib/python3.8/site-packages/pandas/core/tools/numeric.py?line=183'>184</a>\u001b[0m     values, _ \u001b[39m=\u001b[39m lib\u001b[39m.\u001b[39;49mmaybe_convert_numeric(\n\u001b[1;32m    <a href='file:///~/.pyenv/versions/3.8.12/lib/python3.8/site-packages/pandas/core/tools/numeric.py?line=184'>185</a>\u001b[0m         values, \u001b[39mset\u001b[39;49m(), coerce_numeric\u001b[39m=\u001b[39;49mcoerce_numeric\n\u001b[1;32m    <a href='file:///~/.pyenv/versions/3.8.12/lib/python3.8/site-packages/pandas/core/tools/numeric.py?line=185'>186</a>\u001b[0m     )\n\u001b[1;32m    <a href='file:///~/.pyenv/versions/3.8.12/lib/python3.8/site-packages/pandas/core/tools/numeric.py?line=186'>187</a>\u001b[0m \u001b[39mexcept\u001b[39;00m (\u001b[39mValueError\u001b[39;00m, \u001b[39mTypeError\u001b[39;00m):\n\u001b[1;32m    <a href='file:///~/.pyenv/versions/3.8.12/lib/python3.8/site-packages/pandas/core/tools/numeric.py?line=187'>188</a>\u001b[0m     \u001b[39mif\u001b[39;00m errors \u001b[39m==\u001b[39m \u001b[39m\"\u001b[39m\u001b[39mraise\u001b[39m\u001b[39m\"\u001b[39m:\n",
      "File \u001b[0;32m~/.pyenv/versions/3.8.12/lib/python3.8/site-packages/pandas/_libs/lib.pyx:2357\u001b[0m, in \u001b[0;36mpandas._libs.lib.maybe_convert_numeric\u001b[0;34m()\u001b[0m\n",
      "\u001b[0;31mValueError\u001b[0m: Unable to parse string \"1,0000\" at position 0"
     ]
    }
   ],
   "source": [
    "dados[\"Qtd. Comercial\"] = pd.to_numeric(dados[\"Qtd. Comercial\"])\n",
    "dados[\"Valor Líquido do Item\"] = pd.to_numeric(dados[\"Valor Líquido do Item\"])"
   ]
  },
  {
   "cell_type": "markdown",
   "metadata": {},
   "source": [
    "Tivemos problemas com as duas colunas! Isso é por causa da vírgula, que não é reconhecida como separador decimal. Vamos primeiro converter todas para pontos:"
   ]
  },
  {
   "cell_type": "code",
   "execution_count": 12,
   "metadata": {},
   "outputs": [],
   "source": [
    "dados[\"Qtd. Comercial\"] = dados[\"Qtd. Comercial\"].str.replace(\",\", \".\")\n",
    "dados[\"Valor Líquido do Item\"] = dados[\"Valor Líquido do Item\"].str.replace(\",\", \".\")"
   ]
  },
  {
   "cell_type": "code",
   "execution_count": 13,
   "metadata": {},
   "outputs": [
    {
     "data": {
      "text/html": [
       "<div>\n",
       "<style scoped>\n",
       "    .dataframe tbody tr th:only-of-type {\n",
       "        vertical-align: middle;\n",
       "    }\n",
       "\n",
       "    .dataframe tbody tr th {\n",
       "        vertical-align: top;\n",
       "    }\n",
       "\n",
       "    .dataframe thead th {\n",
       "        text-align: right;\n",
       "    }\n",
       "</style>\n",
       "<table border=\"1\" class=\"dataframe\">\n",
       "  <thead>\n",
       "    <tr style=\"text-align: right;\">\n",
       "      <th></th>\n",
       "      <th>Descrição</th>\n",
       "      <th>Qtd. Comercial</th>\n",
       "      <th>Unid. Comercial</th>\n",
       "      <th>Valor Líquido do Item</th>\n",
       "      <th>Cód. Produto</th>\n",
       "    </tr>\n",
       "  </thead>\n",
       "  <tbody>\n",
       "    <tr>\n",
       "      <th>0</th>\n",
       "      <td>CHA LIPTON 1,5L PESSEGO</td>\n",
       "      <td>1.0000</td>\n",
       "      <td>UN</td>\n",
       "      <td>7.15</td>\n",
       "      <td>7891042000195</td>\n",
       "    </tr>\n",
       "    <tr>\n",
       "      <th>1</th>\n",
       "      <td>SUCO AURORA 1,5L UVA TTO</td>\n",
       "      <td>1.0000</td>\n",
       "      <td>UN</td>\n",
       "      <td>17.29</td>\n",
       "      <td>7891141019838</td>\n",
       "    </tr>\n",
       "    <tr>\n",
       "      <th>2</th>\n",
       "      <td>CREME LEITE ITAMBE 300g</td>\n",
       "      <td>1.0000</td>\n",
       "      <td>UN</td>\n",
       "      <td>4.99</td>\n",
       "      <td>7896051114086</td>\n",
       "    </tr>\n",
       "    <tr>\n",
       "      <th>3</th>\n",
       "      <td>LEITE SHEFA 1L GF.INTEGR</td>\n",
       "      <td>1.0000</td>\n",
       "      <td>UN</td>\n",
       "      <td>3.99</td>\n",
       "      <td>7896185312396</td>\n",
       "    </tr>\n",
       "    <tr>\n",
       "      <th>4</th>\n",
       "      <td>PALMITO LUPE 300g P.TOLE</td>\n",
       "      <td>1.0000</td>\n",
       "      <td>UN</td>\n",
       "      <td>11.89</td>\n",
       "      <td>7898944191778</td>\n",
       "    </tr>\n",
       "  </tbody>\n",
       "</table>\n",
       "</div>"
      ],
      "text/plain": [
       "                  Descrição Qtd. Comercial Unid. Comercial  \\\n",
       "0   CHA LIPTON 1,5L PESSEGO         1.0000              UN   \n",
       "1  SUCO AURORA 1,5L UVA TTO         1.0000              UN   \n",
       "2   CREME LEITE ITAMBE 300g         1.0000              UN   \n",
       "3  LEITE SHEFA 1L GF.INTEGR         1.0000              UN   \n",
       "4  PALMITO LUPE 300g P.TOLE         1.0000              UN   \n",
       "\n",
       "  Valor Líquido do Item   Cód. Produto  \n",
       "0                  7.15  7891042000195  \n",
       "1                 17.29  7891141019838  \n",
       "2                  4.99  7896051114086  \n",
       "3                  3.99  7896185312396  \n",
       "4                 11.89  7898944191778  "
      ]
     },
     "execution_count": 13,
     "metadata": {},
     "output_type": "execute_result"
    }
   ],
   "source": [
    "dados.head()"
   ]
  },
  {
   "cell_type": "code",
   "execution_count": 14,
   "metadata": {},
   "outputs": [],
   "source": [
    "dados[\"Qtd. Comercial\"] = pd.to_numeric(dados[\"Qtd. Comercial\"])\n",
    "dados[\"Valor Líquido do Item\"] = pd.to_numeric(dados[\"Valor Líquido do Item\"])"
   ]
  },
  {
   "cell_type": "code",
   "execution_count": 15,
   "metadata": {},
   "outputs": [
    {
     "data": {
      "text/html": [
       "<div>\n",
       "<style scoped>\n",
       "    .dataframe tbody tr th:only-of-type {\n",
       "        vertical-align: middle;\n",
       "    }\n",
       "\n",
       "    .dataframe tbody tr th {\n",
       "        vertical-align: top;\n",
       "    }\n",
       "\n",
       "    .dataframe thead th {\n",
       "        text-align: right;\n",
       "    }\n",
       "</style>\n",
       "<table border=\"1\" class=\"dataframe\">\n",
       "  <thead>\n",
       "    <tr style=\"text-align: right;\">\n",
       "      <th></th>\n",
       "      <th>Descrição</th>\n",
       "      <th>Qtd. Comercial</th>\n",
       "      <th>Unid. Comercial</th>\n",
       "      <th>Valor Líquido do Item</th>\n",
       "      <th>Cód. Produto</th>\n",
       "    </tr>\n",
       "  </thead>\n",
       "  <tbody>\n",
       "    <tr>\n",
       "      <th>0</th>\n",
       "      <td>CHA LIPTON 1,5L PESSEGO</td>\n",
       "      <td>1.000</td>\n",
       "      <td>UN</td>\n",
       "      <td>7.15</td>\n",
       "      <td>7891042000195</td>\n",
       "    </tr>\n",
       "    <tr>\n",
       "      <th>1</th>\n",
       "      <td>SUCO AURORA 1,5L UVA TTO</td>\n",
       "      <td>1.000</td>\n",
       "      <td>UN</td>\n",
       "      <td>17.29</td>\n",
       "      <td>7891141019838</td>\n",
       "    </tr>\n",
       "    <tr>\n",
       "      <th>2</th>\n",
       "      <td>CREME LEITE ITAMBE 300g</td>\n",
       "      <td>1.000</td>\n",
       "      <td>UN</td>\n",
       "      <td>4.99</td>\n",
       "      <td>7896051114086</td>\n",
       "    </tr>\n",
       "    <tr>\n",
       "      <th>3</th>\n",
       "      <td>LEITE SHEFA 1L GF.INTEGR</td>\n",
       "      <td>1.000</td>\n",
       "      <td>UN</td>\n",
       "      <td>3.99</td>\n",
       "      <td>7896185312396</td>\n",
       "    </tr>\n",
       "    <tr>\n",
       "      <th>4</th>\n",
       "      <td>PALMITO LUPE 300g P.TOLE</td>\n",
       "      <td>1.000</td>\n",
       "      <td>UN</td>\n",
       "      <td>11.89</td>\n",
       "      <td>7898944191778</td>\n",
       "    </tr>\n",
       "    <tr>\n",
       "      <th>...</th>\n",
       "      <td>...</td>\n",
       "      <td>...</td>\n",
       "      <td>...</td>\n",
       "      <td>...</td>\n",
       "      <td>...</td>\n",
       "    </tr>\n",
       "    <tr>\n",
       "      <th>57</th>\n",
       "      <td>GOIABA VERMELHA - O QUIL</td>\n",
       "      <td>0.445</td>\n",
       "      <td>kg</td>\n",
       "      <td>2.22</td>\n",
       "      <td>172</td>\n",
       "    </tr>\n",
       "    <tr>\n",
       "      <th>58</th>\n",
       "      <td>MAMAO PAPAYA - O QUILO</td>\n",
       "      <td>0.545</td>\n",
       "      <td>kg</td>\n",
       "      <td>2.72</td>\n",
       "      <td>193</td>\n",
       "    </tr>\n",
       "    <tr>\n",
       "      <th>59</th>\n",
       "      <td>ALFACE MIMOSA RICELFOLHA</td>\n",
       "      <td>1.000</td>\n",
       "      <td>UN</td>\n",
       "      <td>2.99</td>\n",
       "      <td>7898407900046</td>\n",
       "    </tr>\n",
       "    <tr>\n",
       "      <th>60</th>\n",
       "      <td>RUCULA</td>\n",
       "      <td>1.000</td>\n",
       "      <td>UN</td>\n",
       "      <td>3.49</td>\n",
       "      <td>11289</td>\n",
       "    </tr>\n",
       "    <tr>\n",
       "      <th>61</th>\n",
       "      <td>CEBOLINHA MACO</td>\n",
       "      <td>1.000</td>\n",
       "      <td>UN</td>\n",
       "      <td>3.49</td>\n",
       "      <td>40232770654</td>\n",
       "    </tr>\n",
       "  </tbody>\n",
       "</table>\n",
       "<p>62 rows × 5 columns</p>\n",
       "</div>"
      ],
      "text/plain": [
       "                   Descrição  Qtd. Comercial Unid. Comercial  \\\n",
       "0    CHA LIPTON 1,5L PESSEGO           1.000              UN   \n",
       "1   SUCO AURORA 1,5L UVA TTO           1.000              UN   \n",
       "2    CREME LEITE ITAMBE 300g           1.000              UN   \n",
       "3   LEITE SHEFA 1L GF.INTEGR           1.000              UN   \n",
       "4   PALMITO LUPE 300g P.TOLE           1.000              UN   \n",
       "..                       ...             ...             ...   \n",
       "57  GOIABA VERMELHA - O QUIL           0.445              kg   \n",
       "58    MAMAO PAPAYA - O QUILO           0.545              kg   \n",
       "59  ALFACE MIMOSA RICELFOLHA           1.000              UN   \n",
       "60                    RUCULA           1.000              UN   \n",
       "61            CEBOLINHA MACO           1.000              UN   \n",
       "\n",
       "    Valor Líquido do Item   Cód. Produto  \n",
       "0                    7.15  7891042000195  \n",
       "1                   17.29  7891141019838  \n",
       "2                    4.99  7896051114086  \n",
       "3                    3.99  7896185312396  \n",
       "4                   11.89  7898944191778  \n",
       "..                    ...            ...  \n",
       "57                   2.22            172  \n",
       "58                   2.72            193  \n",
       "59                   2.99  7898407900046  \n",
       "60                   3.49          11289  \n",
       "61                   3.49    40232770654  \n",
       "\n",
       "[62 rows x 5 columns]"
      ]
     },
     "execution_count": 15,
     "metadata": {},
     "output_type": "execute_result"
    }
   ],
   "source": [
    "dados"
   ]
  },
  {
   "cell_type": "markdown",
   "metadata": {},
   "source": [
    "Agora, vamos deixar os nomes dos produtos mais amigáveis, convertendo todos em \"títulos\":"
   ]
  },
  {
   "cell_type": "code",
   "execution_count": 16,
   "metadata": {},
   "outputs": [
    {
     "data": {
      "text/plain": [
       "0      Cha Lipton 1,5L Pessego\n",
       "1     Suco Aurora 1,5L Uva Tto\n",
       "2      Creme Leite Itambe 300G\n",
       "3     Leite Shefa 1L Gf.Integr\n",
       "4     Palmito Lupe 300G P.Tole\n",
       "                ...           \n",
       "57    Goiaba Vermelha - O Quil\n",
       "58      Mamao Papaya - O Quilo\n",
       "59    Alface Mimosa Ricelfolha\n",
       "60                      Rucula\n",
       "61              Cebolinha Maco\n",
       "Name: Descrição, Length: 62, dtype: object"
      ]
     },
     "execution_count": 16,
     "metadata": {},
     "output_type": "execute_result"
    }
   ],
   "source": [
    "dados[\"Descrição\"].str.title()"
   ]
  },
  {
   "cell_type": "code",
   "execution_count": 17,
   "metadata": {},
   "outputs": [],
   "source": [
    "dados[\"Descrição\"] = dados[\"Descrição\"].str.title()"
   ]
  },
  {
   "cell_type": "code",
   "execution_count": 21,
   "metadata": {},
   "outputs": [
    {
     "data": {
      "text/html": [
       "<div>\n",
       "<style scoped>\n",
       "    .dataframe tbody tr th:only-of-type {\n",
       "        vertical-align: middle;\n",
       "    }\n",
       "\n",
       "    .dataframe tbody tr th {\n",
       "        vertical-align: top;\n",
       "    }\n",
       "\n",
       "    .dataframe thead th {\n",
       "        text-align: right;\n",
       "    }\n",
       "</style>\n",
       "<table border=\"1\" class=\"dataframe\">\n",
       "  <thead>\n",
       "    <tr style=\"text-align: right;\">\n",
       "      <th></th>\n",
       "      <th>Descrição</th>\n",
       "      <th>Qtd. Comercial</th>\n",
       "      <th>Unid. Comercial</th>\n",
       "      <th>Valor Líquido do Item</th>\n",
       "      <th>Cód. Produto</th>\n",
       "    </tr>\n",
       "  </thead>\n",
       "  <tbody>\n",
       "    <tr>\n",
       "      <th>47</th>\n",
       "      <td>Banana Prata - O Quilo</td>\n",
       "      <td>0.770</td>\n",
       "      <td>kg</td>\n",
       "      <td>5.00</td>\n",
       "      <td>167</td>\n",
       "    </tr>\n",
       "    <tr>\n",
       "      <th>51</th>\n",
       "      <td>Cenoura - O Quilo</td>\n",
       "      <td>0.325</td>\n",
       "      <td>kg</td>\n",
       "      <td>0.97</td>\n",
       "      <td>239</td>\n",
       "    </tr>\n",
       "    <tr>\n",
       "      <th>52</th>\n",
       "      <td>Pimentao Verde - O Quilo</td>\n",
       "      <td>0.180</td>\n",
       "      <td>kg</td>\n",
       "      <td>0.72</td>\n",
       "      <td>230</td>\n",
       "    </tr>\n",
       "    <tr>\n",
       "      <th>53</th>\n",
       "      <td>Maracuja Azedo - O Quilo</td>\n",
       "      <td>0.365</td>\n",
       "      <td>kg</td>\n",
       "      <td>3.28</td>\n",
       "      <td>199</td>\n",
       "    </tr>\n",
       "    <tr>\n",
       "      <th>54</th>\n",
       "      <td>Cebola Nacional - O Quil</td>\n",
       "      <td>0.960</td>\n",
       "      <td>kg</td>\n",
       "      <td>4.79</td>\n",
       "      <td>129</td>\n",
       "    </tr>\n",
       "    <tr>\n",
       "      <th>55</th>\n",
       "      <td>Tomate Debora - O Quilo</td>\n",
       "      <td>0.425</td>\n",
       "      <td>kg</td>\n",
       "      <td>1.70</td>\n",
       "      <td>288</td>\n",
       "    </tr>\n",
       "    <tr>\n",
       "      <th>56</th>\n",
       "      <td>Cebola Roxa - O Quilo</td>\n",
       "      <td>0.265</td>\n",
       "      <td>kg</td>\n",
       "      <td>2.65</td>\n",
       "      <td>1907</td>\n",
       "    </tr>\n",
       "    <tr>\n",
       "      <th>57</th>\n",
       "      <td>Goiaba Vermelha - O Quil</td>\n",
       "      <td>0.445</td>\n",
       "      <td>kg</td>\n",
       "      <td>2.22</td>\n",
       "      <td>172</td>\n",
       "    </tr>\n",
       "    <tr>\n",
       "      <th>58</th>\n",
       "      <td>Mamao Papaya - O Quilo</td>\n",
       "      <td>0.545</td>\n",
       "      <td>kg</td>\n",
       "      <td>2.72</td>\n",
       "      <td>193</td>\n",
       "    </tr>\n",
       "  </tbody>\n",
       "</table>\n",
       "</div>"
      ],
      "text/plain": [
       "                   Descrição  Qtd. Comercial Unid. Comercial  \\\n",
       "47    Banana Prata - O Quilo           0.770              kg   \n",
       "51         Cenoura - O Quilo           0.325              kg   \n",
       "52  Pimentao Verde - O Quilo           0.180              kg   \n",
       "53  Maracuja Azedo - O Quilo           0.365              kg   \n",
       "54  Cebola Nacional - O Quil           0.960              kg   \n",
       "55   Tomate Debora - O Quilo           0.425              kg   \n",
       "56     Cebola Roxa - O Quilo           0.265              kg   \n",
       "57  Goiaba Vermelha - O Quil           0.445              kg   \n",
       "58    Mamao Papaya - O Quilo           0.545              kg   \n",
       "\n",
       "    Valor Líquido do Item  Cód. Produto  \n",
       "47                   5.00           167  \n",
       "51                   0.97           239  \n",
       "52                   0.72           230  \n",
       "53                   3.28           199  \n",
       "54                   4.79           129  \n",
       "55                   1.70           288  \n",
       "56                   2.65          1907  \n",
       "57                   2.22           172  \n",
       "58                   2.72           193  "
      ]
     },
     "execution_count": 21,
     "metadata": {},
     "output_type": "execute_result"
    }
   ],
   "source": [
    "dados[dados[\"Descrição\"].str.contains(\"- O Q\")]"
   ]
  },
  {
   "cell_type": "code",
   "execution_count": 31,
   "metadata": {},
   "outputs": [],
   "source": [
    "def remove_quilo(texto):\n",
    "    if (\" - O Q\") in texto:\n",
    "        return texto[:texto.index(\" - O Q\")]\n",
    "    return texto"
   ]
  },
  {
   "cell_type": "code",
   "execution_count": 32,
   "metadata": {},
   "outputs": [
    {
     "data": {
      "text/plain": [
       "'Banana Prata'"
      ]
     },
     "execution_count": 32,
     "metadata": {},
     "output_type": "execute_result"
    }
   ],
   "source": [
    "remove_quilo(\"Banana Prata - O Quilo\")"
   ]
  },
  {
   "cell_type": "code",
   "execution_count": 33,
   "metadata": {},
   "outputs": [
    {
     "data": {
      "text/plain": [
       "'Cebola Nacional'"
      ]
     },
     "execution_count": 33,
     "metadata": {},
     "output_type": "execute_result"
    }
   ],
   "source": [
    "remove_quilo(\"Cebola Nacional - O Quil\")"
   ]
  },
  {
   "cell_type": "code",
   "execution_count": 34,
   "metadata": {},
   "outputs": [
    {
     "data": {
      "text/plain": [
       "0      Cha Lipton 1,5L Pessego\n",
       "1     Suco Aurora 1,5L Uva Tto\n",
       "2      Creme Leite Itambe 300G\n",
       "3     Leite Shefa 1L Gf.Integr\n",
       "4     Palmito Lupe 300G P.Tole\n",
       "                ...           \n",
       "57             Goiaba Vermelha\n",
       "58                Mamao Papaya\n",
       "59    Alface Mimosa Ricelfolha\n",
       "60                      Rucula\n",
       "61              Cebolinha Maco\n",
       "Name: Descrição, Length: 62, dtype: object"
      ]
     },
     "execution_count": 34,
     "metadata": {},
     "output_type": "execute_result"
    }
   ],
   "source": [
    "dados[\"Descrição\"].map(remove_quilo)"
   ]
  },
  {
   "cell_type": "code",
   "execution_count": 35,
   "metadata": {},
   "outputs": [],
   "source": [
    "dados[\"Descrição\"] = dados[\"Descrição\"].map(remove_quilo)"
   ]
  },
  {
   "cell_type": "code",
   "execution_count": 36,
   "metadata": {},
   "outputs": [
    {
     "data": {
      "text/html": [
       "<div>\n",
       "<style scoped>\n",
       "    .dataframe tbody tr th:only-of-type {\n",
       "        vertical-align: middle;\n",
       "    }\n",
       "\n",
       "    .dataframe tbody tr th {\n",
       "        vertical-align: top;\n",
       "    }\n",
       "\n",
       "    .dataframe thead th {\n",
       "        text-align: right;\n",
       "    }\n",
       "</style>\n",
       "<table border=\"1\" class=\"dataframe\">\n",
       "  <thead>\n",
       "    <tr style=\"text-align: right;\">\n",
       "      <th></th>\n",
       "      <th>Descrição</th>\n",
       "      <th>Qtd. Comercial</th>\n",
       "      <th>Unid. Comercial</th>\n",
       "      <th>Valor Líquido do Item</th>\n",
       "      <th>Cód. Produto</th>\n",
       "    </tr>\n",
       "  </thead>\n",
       "  <tbody>\n",
       "    <tr>\n",
       "      <th>0</th>\n",
       "      <td>Cha Lipton 1,5L Pessego</td>\n",
       "      <td>1.0</td>\n",
       "      <td>UN</td>\n",
       "      <td>7.15</td>\n",
       "      <td>7891042000195</td>\n",
       "    </tr>\n",
       "    <tr>\n",
       "      <th>1</th>\n",
       "      <td>Suco Aurora 1,5L Uva Tto</td>\n",
       "      <td>1.0</td>\n",
       "      <td>UN</td>\n",
       "      <td>17.29</td>\n",
       "      <td>7891141019838</td>\n",
       "    </tr>\n",
       "    <tr>\n",
       "      <th>2</th>\n",
       "      <td>Creme Leite Itambe 300G</td>\n",
       "      <td>1.0</td>\n",
       "      <td>UN</td>\n",
       "      <td>4.99</td>\n",
       "      <td>7896051114086</td>\n",
       "    </tr>\n",
       "    <tr>\n",
       "      <th>3</th>\n",
       "      <td>Leite Shefa 1L Gf.Integr</td>\n",
       "      <td>1.0</td>\n",
       "      <td>UN</td>\n",
       "      <td>3.99</td>\n",
       "      <td>7896185312396</td>\n",
       "    </tr>\n",
       "    <tr>\n",
       "      <th>4</th>\n",
       "      <td>Palmito Lupe 300G P.Tole</td>\n",
       "      <td>1.0</td>\n",
       "      <td>UN</td>\n",
       "      <td>11.89</td>\n",
       "      <td>7898944191778</td>\n",
       "    </tr>\n",
       "  </tbody>\n",
       "</table>\n",
       "</div>"
      ],
      "text/plain": [
       "                  Descrição  Qtd. Comercial Unid. Comercial  \\\n",
       "0   Cha Lipton 1,5L Pessego             1.0              UN   \n",
       "1  Suco Aurora 1,5L Uva Tto             1.0              UN   \n",
       "2   Creme Leite Itambe 300G             1.0              UN   \n",
       "3  Leite Shefa 1L Gf.Integr             1.0              UN   \n",
       "4  Palmito Lupe 300G P.Tole             1.0              UN   \n",
       "\n",
       "   Valor Líquido do Item   Cód. Produto  \n",
       "0                   7.15  7891042000195  \n",
       "1                  17.29  7891141019838  \n",
       "2                   4.99  7896051114086  \n",
       "3                   3.99  7896185312396  \n",
       "4                  11.89  7898944191778  "
      ]
     },
     "execution_count": 36,
     "metadata": {},
     "output_type": "execute_result"
    }
   ],
   "source": [
    "dados.head()"
   ]
  },
  {
   "cell_type": "markdown",
   "metadata": {},
   "source": [
    "## Load - Carregando os dados!\n",
    "\n",
    "A etapa final é de carregamento de dados. Normalmente, essa etapa seria voltada\n",
    "para carregar os dados de um banco de dados, mas nesse caso, vamos simplesmente\n",
    "carregar os dados de volta em um arquivo csv!\n",
    "\n",
    "Utilizando Pandas isso é bem direto:"
   ]
  },
  {
   "cell_type": "code",
   "execution_count": 37,
   "metadata": {},
   "outputs": [
    {
     "data": {
      "text/html": [
       "<div>\n",
       "<style scoped>\n",
       "    .dataframe tbody tr th:only-of-type {\n",
       "        vertical-align: middle;\n",
       "    }\n",
       "\n",
       "    .dataframe tbody tr th {\n",
       "        vertical-align: top;\n",
       "    }\n",
       "\n",
       "    .dataframe thead th {\n",
       "        text-align: right;\n",
       "    }\n",
       "</style>\n",
       "<table border=\"1\" class=\"dataframe\">\n",
       "  <thead>\n",
       "    <tr style=\"text-align: right;\">\n",
       "      <th></th>\n",
       "      <th>Descrição</th>\n",
       "      <th>Qtd. Comercial</th>\n",
       "      <th>Unid. Comercial</th>\n",
       "      <th>Valor Líquido do Item</th>\n",
       "      <th>Cód. Produto</th>\n",
       "    </tr>\n",
       "  </thead>\n",
       "  <tbody>\n",
       "    <tr>\n",
       "      <th>0</th>\n",
       "      <td>Cha Lipton 1,5L Pessego</td>\n",
       "      <td>1.0</td>\n",
       "      <td>UN</td>\n",
       "      <td>7.15</td>\n",
       "      <td>7891042000195</td>\n",
       "    </tr>\n",
       "    <tr>\n",
       "      <th>1</th>\n",
       "      <td>Suco Aurora 1,5L Uva Tto</td>\n",
       "      <td>1.0</td>\n",
       "      <td>UN</td>\n",
       "      <td>17.29</td>\n",
       "      <td>7891141019838</td>\n",
       "    </tr>\n",
       "    <tr>\n",
       "      <th>2</th>\n",
       "      <td>Creme Leite Itambe 300G</td>\n",
       "      <td>1.0</td>\n",
       "      <td>UN</td>\n",
       "      <td>4.99</td>\n",
       "      <td>7896051114086</td>\n",
       "    </tr>\n",
       "    <tr>\n",
       "      <th>3</th>\n",
       "      <td>Leite Shefa 1L Gf.Integr</td>\n",
       "      <td>1.0</td>\n",
       "      <td>UN</td>\n",
       "      <td>3.99</td>\n",
       "      <td>7896185312396</td>\n",
       "    </tr>\n",
       "    <tr>\n",
       "      <th>4</th>\n",
       "      <td>Palmito Lupe 300G P.Tole</td>\n",
       "      <td>1.0</td>\n",
       "      <td>UN</td>\n",
       "      <td>11.89</td>\n",
       "      <td>7898944191778</td>\n",
       "    </tr>\n",
       "  </tbody>\n",
       "</table>\n",
       "</div>"
      ],
      "text/plain": [
       "                  Descrição  Qtd. Comercial Unid. Comercial  \\\n",
       "0   Cha Lipton 1,5L Pessego             1.0              UN   \n",
       "1  Suco Aurora 1,5L Uva Tto             1.0              UN   \n",
       "2   Creme Leite Itambe 300G             1.0              UN   \n",
       "3  Leite Shefa 1L Gf.Integr             1.0              UN   \n",
       "4  Palmito Lupe 300G P.Tole             1.0              UN   \n",
       "\n",
       "   Valor Líquido do Item   Cód. Produto  \n",
       "0                   7.15  7891042000195  \n",
       "1                  17.29  7891141019838  \n",
       "2                   4.99  7896051114086  \n",
       "3                   3.99  7896185312396  \n",
       "4                  11.89  7898944191778  "
      ]
     },
     "execution_count": 37,
     "metadata": {},
     "output_type": "execute_result"
    }
   ],
   "source": [
    "dados.head()"
   ]
  },
  {
   "cell_type": "code",
   "execution_count": 38,
   "metadata": {},
   "outputs": [],
   "source": [
    "dados.to_html(\"dados.html\")"
   ]
  },
  {
   "cell_type": "code",
   "execution_count": 39,
   "metadata": {},
   "outputs": [],
   "source": [
    "dados.to_csv(\"dados.csv\")"
   ]
  },
  {
   "cell_type": "markdown",
   "metadata": {},
   "source": [
    "## Juntando tudo"
   ]
  },
  {
   "cell_type": "code",
   "execution_count": 46,
   "metadata": {},
   "outputs": [],
   "source": [
    "def extract(arquivo):\n",
    "    return pd.read_csv(arquivo)"
   ]
  },
  {
   "cell_type": "code",
   "execution_count": 56,
   "metadata": {},
   "outputs": [],
   "source": [
    "def tract(dados):\n",
    "    colunas = [\n",
    "        \"Descrição\",\n",
    "        \"Qtd. Comercial\",\n",
    "        \"Unid. Comercial\",\n",
    "        \"Valor Líquido do Item\",\n",
    "        \"Cód. Produto\",\n",
    "    ]\n",
    "    dados = dados[colunas].copy()\n",
    "    dados[\"Qtd. Comercial\"] = dados[\"Qtd. Comercial\"].str.replace(\",\", \".\")\n",
    "    dados[\"Valor Líquido do Item\"] = dados[\"Valor Líquido do Item\"].str.replace(\",\", \".\")\n",
    "    dados[\"Qtd. Comercial\"] = pd.to_numeric(dados[\"Qtd. Comercial\"])\n",
    "    dados[\"Valor Líquido do Item\"] = pd.to_numeric(dados[\"Valor Líquido do Item\"])\n",
    "    dados[\"Descrição\"] = dados[\"Descrição\"].str.title()\n",
    "    dados[\"Descrição\"] = dados[\"Descrição\"].map(remove_quilo)\n",
    "    return dados"
   ]
  },
  {
   "cell_type": "code",
   "execution_count": 57,
   "metadata": {},
   "outputs": [],
   "source": [
    "def load(dados, nome_arquivo):\n",
    "    dados.to_csv(f\"saída_{nome_arquivo}.csv\")"
   ]
  },
  {
   "cell_type": "code",
   "execution_count": 58,
   "metadata": {},
   "outputs": [
    {
     "name": "stdout",
     "output_type": "stream",
     "text": [
      "Processando 2021-02-01\n",
      "Processando 2021-02-09\n",
      "Processando 2021-02-12\n",
      "Processando 2021-02-13\n",
      "Processando 2021-02-15\n",
      "Processando 2021-02-19\n",
      "Processando 2021-02-22\n",
      "Processando 2021-02-28\n"
     ]
    }
   ],
   "source": [
    "for filename in pasta_dados.iterdir():\n",
    "    nome = filename.name[:-4]\n",
    "    print(f\"Processando {nome}\")\n",
    "    dados = extract(filename)\n",
    "    dados = tract(dados)\n",
    "    load(dados, nome)"
   ]
  }
 ],
 "metadata": {
  "kernelspec": {
   "display_name": "Python 3",
   "language": "python",
   "name": "python3"
  },
  "language_info": {
   "codemirror_mode": {
    "name": "ipython",
    "version": 3
   },
   "file_extension": ".py",
   "mimetype": "text/x-python",
   "name": "python",
   "nbconvert_exporter": "python",
   "pygments_lexer": "ipython3",
   "version": "3.8.12"
  }
 },
 "nbformat": 4,
 "nbformat_minor": 4
}
